{
 "cells": [
  {
   "cell_type": "code",
   "execution_count": 1,
   "metadata": {},
   "outputs": [
    {
     "name": "stderr",
     "output_type": "stream",
     "text": [
      "C:\\Users\\Johan\\AppData\\Local\\Temp\\ipykernel_9152\\4189364951.py:2: DeprecationWarning: \n",
      "Pyarrow will become a required dependency of pandas in the next major release of pandas (pandas 3.0),\n",
      "(to allow more performant data types, such as the Arrow string type, and better interoperability with other libraries)\n",
      "but was not found to be installed on your system.\n",
      "If this would cause problems for you,\n",
      "please provide us feedback at https://github.com/pandas-dev/pandas/issues/54466\n",
      "        \n",
      "  import pandas as pd\n"
     ]
    }
   ],
   "source": [
    "#Regularisering\n",
    "\n",
    "import numpy as np\n",
    "import pandas as pd\n",
    "import matplotlib.pyplot as plt\n",
    "\n",
    "\n",
    "from sklearn.preprocessing import PolynomialFeatures\n",
    "from sklearn.model_selection import train_test_split\n",
    "\n",
    "df = pd.read_csv(\"../data/Advertising.csv\", index_col=0)\n",
    "\n",
    "X, Y = df.drop(\"Sales\", axis = \"columns\"), df[\"Sales\"]\n",
    "\n",
    "model_polynomial = PolynomialFeatures(3, include_bias=False)\n",
    "poly_features = model_polynomial.fit_transform(X)\n",
    "poly_features\n",
    "X_train, X_test, Y_train, Y_test = train_test_split(poly_features, Y, test_size=0.33, random_state=1337)\n",
    "\n",
    "\n"
   ]
  },
  {
   "cell_type": "code",
   "execution_count": 2,
   "metadata": {},
   "outputs": [
    {
     "name": "stdout",
     "output_type": "stream",
     "text": [
      "-0.00 0.03\n"
     ]
    }
   ],
   "source": [
    "from sklearn.preprocessing import StandardScaler\n",
    "\n",
    "scaler = StandardScaler()\n",
    "scaled_X_train = scaler.fit_transform(X_train)\n",
    "scaled_X_test = scaler.transform(X_test)\n",
    "\n",
    "print(f\"{scaled_X_train.mean():.2f}\", f\"{scaled_X_test.mean():.2f}\")\n"
   ]
  },
  {
   "cell_type": "code",
   "execution_count": 3,
   "metadata": {},
   "outputs": [
    {
     "data": {
      "text/plain": [
       "(0.24959538036147472, 0.4995952165118024)"
      ]
     },
     "execution_count": 3,
     "metadata": {},
     "output_type": "execute_result"
    }
   ],
   "source": [
    "from sklearn.linear_model import Ridge\n",
    "from sklearn.metrics import mean_absolute_error\n",
    "from sklearn.metrics import mean_squared_error\n",
    "# L2 regularisation\n",
    "model_ridge = Ridge( alpha = 0.1)\n",
    "model_ridge.fit(scaled_X_train, Y_train)\n",
    "Y_hat = model_ridge.predict(scaled_X_test)\n",
    "Y_hat\n",
    "\n",
    "MSE = mean_squared_error(Y_test, Y_hat)\n",
    "RMSE = np.sqrt(MSE)\n",
    "\n",
    "MSE, RMSE\n",
    "\n"
   ]
  },
  {
   "cell_type": "code",
   "execution_count": 4,
   "metadata": {},
   "outputs": [
    {
     "name": "stdout",
     "output_type": "stream",
     "text": [
      "[ 1.77053674  0.16177077  0.         -0.          3.77413423  0.\n",
      "  0.          0.04720898  0.         -0.37585383 -0.         -0.\n",
      "  0.          0.          0.          0.          0.          0.\n",
      "  0.        ]\n"
     ]
    },
    {
     "data": {
      "text/plain": [
       "0.7738198161795442"
      ]
     },
     "execution_count": 4,
     "metadata": {},
     "output_type": "execute_result"
    }
   ],
   "source": [
    "from sklearn.linear_model import Lasso\n",
    "\n",
    "model_lasso = Lasso(alpha = 0.1)\n",
    "model_lasso.fit(scaled_X_train, Y_train)\n",
    "Y_hat = model_lasso.predict(scaled_X_test)\n",
    "print(model_lasso.coef_)\n",
    "np.sqrt(mean_squared_error(Y_test, Y_hat))"
   ]
  },
  {
   "cell_type": "code",
   "execution_count": 5,
   "metadata": {},
   "outputs": [
    {
     "name": "stdout",
     "output_type": "stream",
     "text": [
      "[  7.34985134   0.6331339    0.4575767  -10.6664558    4.69979729\n",
      "  -1.21795087  -0.33002651  -0.2049405   -0.18235904   5.19374784\n",
      "  -1.37857412   1.00487749   0.51536908  -0.39391912   0.23265959\n",
      "  -0.28009281   0.38741237   0.14013473  -0.09899025] \n",
      " 0.9912715899638584\n"
     ]
    },
    {
     "data": {
      "text/plain": [
       "0.01"
      ]
     },
     "execution_count": 5,
     "metadata": {},
     "output_type": "execute_result"
    }
   ],
   "source": [
    "from sklearn.linear_model import RidgeCV\n",
    "\n",
    "model_ridgeCV = RidgeCV(alphas=[.0001, .001, .01, .9, .04, .1, 0.5, 1, 5, 10], scoring=\"neg_mean_squared_error\")\n",
    "model_ridgeCV.fit(scaled_X_train, Y_train)\n",
    "print(model_ridgeCV.coef_,\"\\n\", model_ridgeCV.score(scaled_X_train, Y_train))\n",
    "model_ridgeCV.alpha_"
   ]
  },
  {
   "cell_type": "code",
   "execution_count": 6,
   "metadata": {},
   "outputs": [
    {
     "name": "stdout",
     "output_type": "stream",
     "text": [
      "alpha (lambda) = 0.004956246150210799\n"
     ]
    },
    {
     "data": {
      "text/plain": [
       "0.45290652860918507"
      ]
     },
     "execution_count": 6,
     "metadata": {},
     "output_type": "execute_result"
    }
   ],
   "source": [
    "from sklearn.linear_model import LassoCV\n",
    "\n",
    "model_lassoCV = LassoCV(eps=0.001, n_alphas = 100, max_iter= 10000, cv=5)\n",
    "model_lassoCV.fit(scaled_X_train, Y_train)\n",
    "print (f\"alpha (lambda) = {model_lassoCV.alpha_}\")\n",
    "Y_hat = model_lassoCV.predict(scaled_X_test)\n",
    "\n",
    "np.sqrt(mean_squared_error(Y_test, Y_hat))"
   ]
  },
  {
   "cell_type": "code",
   "execution_count": 20,
   "metadata": {},
   "outputs": [
    {
     "name": "stdout",
     "output_type": "stream",
     "text": [
      " alpha = 0.004956246150210799 model 1 ratio = 1.0\n"
     ]
    },
    {
     "data": {
      "text/plain": [
       "0.45290652860918507"
      ]
     },
     "execution_count": 20,
     "metadata": {},
     "output_type": "execute_result"
    }
   ],
   "source": [
    "from sklearn.linear_model import ElasticNetCV\n",
    "\n",
    "model_elasticNetCV = ElasticNetCV(l1_ratio=[ 0.01, .5, .7, .9, .95, .99, 1], eps=0.001, n_alphas = 100, max_iter=10000)\n",
    "model_elasticNetCV.fit(scaled_X_train, Y_train)\n",
    "print(f\" alpha = {model_elasticNetCV.alpha_} model 1 ratio = {model_elasticNetCV.l1_ratio_}\")\n",
    "Y_hat = model_elasticNetCV.predict(scaled_X_test)\n",
    "\n",
    "np.sqrt(mean_squared_error(Y_test, Y_hat))"
   ]
  }
 ],
 "metadata": {
  "kernelspec": {
   "display_name": "env",
   "language": "python",
   "name": "python3"
  },
  "language_info": {
   "codemirror_mode": {
    "name": "ipython",
    "version": 3
   },
   "file_extension": ".py",
   "mimetype": "text/x-python",
   "name": "python",
   "nbconvert_exporter": "python",
   "pygments_lexer": "ipython3",
   "version": "3.11.8"
  }
 },
 "nbformat": 4,
 "nbformat_minor": 2
}
