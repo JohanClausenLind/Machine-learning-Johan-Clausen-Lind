{
 "cells": [
  {
   "cell_type": "code",
   "execution_count": 9,
   "metadata": {},
   "outputs": [],
   "source": [
    "import pandas as pd\n",
    "import numpy as np\n",
    "from sklearn.metrics.pairwise import cosine_similarity\n",
    "from sklearn.feature_extraction.text import TfidfVectorizer\n",
    "import matplotlib.pyplot as plt\n",
    "import seaborn as sns\n",
    "\n",
    "# Ladda dataset\n",
    "movies_df = pd.read_csv('movies.csv')\n",
    "ratings_df = pd.read_csv('ratings.csv')\n",
    "tags_df = pd.read_csv('tags.csv')"
   ]
  },
  {
   "cell_type": "code",
   "execution_count": 10,
   "metadata": {},
   "outputs": [
    {
     "data": {
      "text/html": [
       "<div>\n",
       "<style scoped>\n",
       "    .dataframe tbody tr th:only-of-type {\n",
       "        vertical-align: middle;\n",
       "    }\n",
       "\n",
       "    .dataframe tbody tr th {\n",
       "        vertical-align: top;\n",
       "    }\n",
       "\n",
       "    .dataframe thead th {\n",
       "        text-align: right;\n",
       "    }\n",
       "</style>\n",
       "<table border=\"1\" class=\"dataframe\">\n",
       "  <thead>\n",
       "    <tr style=\"text-align: right;\">\n",
       "      <th></th>\n",
       "      <th>movieId</th>\n",
       "      <th>title</th>\n",
       "      <th>genres</th>\n",
       "    </tr>\n",
       "  </thead>\n",
       "  <tbody>\n",
       "    <tr>\n",
       "      <th>0</th>\n",
       "      <td>1</td>\n",
       "      <td>Toy Story (1995)</td>\n",
       "      <td>Adventure|Animation|Children|Comedy|Fantasy</td>\n",
       "    </tr>\n",
       "    <tr>\n",
       "      <th>1</th>\n",
       "      <td>2</td>\n",
       "      <td>Jumanji (1995)</td>\n",
       "      <td>Adventure|Children|Fantasy</td>\n",
       "    </tr>\n",
       "    <tr>\n",
       "      <th>2</th>\n",
       "      <td>3</td>\n",
       "      <td>Grumpier Old Men (1995)</td>\n",
       "      <td>Comedy|Romance</td>\n",
       "    </tr>\n",
       "    <tr>\n",
       "      <th>3</th>\n",
       "      <td>4</td>\n",
       "      <td>Waiting to Exhale (1995)</td>\n",
       "      <td>Comedy|Drama|Romance</td>\n",
       "    </tr>\n",
       "    <tr>\n",
       "      <th>4</th>\n",
       "      <td>5</td>\n",
       "      <td>Father of the Bride Part II (1995)</td>\n",
       "      <td>Comedy</td>\n",
       "    </tr>\n",
       "  </tbody>\n",
       "</table>\n",
       "</div>"
      ],
      "text/plain": [
       "   movieId                               title  \\\n",
       "0        1                    Toy Story (1995)   \n",
       "1        2                      Jumanji (1995)   \n",
       "2        3             Grumpier Old Men (1995)   \n",
       "3        4            Waiting to Exhale (1995)   \n",
       "4        5  Father of the Bride Part II (1995)   \n",
       "\n",
       "                                        genres  \n",
       "0  Adventure|Animation|Children|Comedy|Fantasy  \n",
       "1                   Adventure|Children|Fantasy  \n",
       "2                               Comedy|Romance  \n",
       "3                         Comedy|Drama|Romance  \n",
       "4                                       Comedy  "
      ]
     },
     "metadata": {},
     "output_type": "display_data"
    },
    {
     "data": {
      "text/html": [
       "<div>\n",
       "<style scoped>\n",
       "    .dataframe tbody tr th:only-of-type {\n",
       "        vertical-align: middle;\n",
       "    }\n",
       "\n",
       "    .dataframe tbody tr th {\n",
       "        vertical-align: top;\n",
       "    }\n",
       "\n",
       "    .dataframe thead th {\n",
       "        text-align: right;\n",
       "    }\n",
       "</style>\n",
       "<table border=\"1\" class=\"dataframe\">\n",
       "  <thead>\n",
       "    <tr style=\"text-align: right;\">\n",
       "      <th></th>\n",
       "      <th>userId</th>\n",
       "      <th>movieId</th>\n",
       "      <th>rating</th>\n",
       "      <th>timestamp</th>\n",
       "    </tr>\n",
       "  </thead>\n",
       "  <tbody>\n",
       "    <tr>\n",
       "      <th>0</th>\n",
       "      <td>1</td>\n",
       "      <td>1</td>\n",
       "      <td>4.0</td>\n",
       "      <td>964982703</td>\n",
       "    </tr>\n",
       "    <tr>\n",
       "      <th>1</th>\n",
       "      <td>1</td>\n",
       "      <td>3</td>\n",
       "      <td>4.0</td>\n",
       "      <td>964981247</td>\n",
       "    </tr>\n",
       "    <tr>\n",
       "      <th>2</th>\n",
       "      <td>1</td>\n",
       "      <td>6</td>\n",
       "      <td>4.0</td>\n",
       "      <td>964982224</td>\n",
       "    </tr>\n",
       "    <tr>\n",
       "      <th>3</th>\n",
       "      <td>1</td>\n",
       "      <td>47</td>\n",
       "      <td>5.0</td>\n",
       "      <td>964983815</td>\n",
       "    </tr>\n",
       "    <tr>\n",
       "      <th>4</th>\n",
       "      <td>1</td>\n",
       "      <td>50</td>\n",
       "      <td>5.0</td>\n",
       "      <td>964982931</td>\n",
       "    </tr>\n",
       "  </tbody>\n",
       "</table>\n",
       "</div>"
      ],
      "text/plain": [
       "   userId  movieId  rating  timestamp\n",
       "0       1        1     4.0  964982703\n",
       "1       1        3     4.0  964981247\n",
       "2       1        6     4.0  964982224\n",
       "3       1       47     5.0  964983815\n",
       "4       1       50     5.0  964982931"
      ]
     },
     "metadata": {},
     "output_type": "display_data"
    },
    {
     "data": {
      "text/html": [
       "<div>\n",
       "<style scoped>\n",
       "    .dataframe tbody tr th:only-of-type {\n",
       "        vertical-align: middle;\n",
       "    }\n",
       "\n",
       "    .dataframe tbody tr th {\n",
       "        vertical-align: top;\n",
       "    }\n",
       "\n",
       "    .dataframe thead th {\n",
       "        text-align: right;\n",
       "    }\n",
       "</style>\n",
       "<table border=\"1\" class=\"dataframe\">\n",
       "  <thead>\n",
       "    <tr style=\"text-align: right;\">\n",
       "      <th></th>\n",
       "      <th>userId</th>\n",
       "      <th>movieId</th>\n",
       "      <th>tag</th>\n",
       "      <th>timestamp</th>\n",
       "    </tr>\n",
       "  </thead>\n",
       "  <tbody>\n",
       "    <tr>\n",
       "      <th>0</th>\n",
       "      <td>2</td>\n",
       "      <td>60756</td>\n",
       "      <td>funny</td>\n",
       "      <td>1445714994</td>\n",
       "    </tr>\n",
       "    <tr>\n",
       "      <th>1</th>\n",
       "      <td>2</td>\n",
       "      <td>60756</td>\n",
       "      <td>Highly quotable</td>\n",
       "      <td>1445714996</td>\n",
       "    </tr>\n",
       "    <tr>\n",
       "      <th>2</th>\n",
       "      <td>2</td>\n",
       "      <td>60756</td>\n",
       "      <td>will ferrell</td>\n",
       "      <td>1445714992</td>\n",
       "    </tr>\n",
       "    <tr>\n",
       "      <th>3</th>\n",
       "      <td>2</td>\n",
       "      <td>89774</td>\n",
       "      <td>Boxing story</td>\n",
       "      <td>1445715207</td>\n",
       "    </tr>\n",
       "    <tr>\n",
       "      <th>4</th>\n",
       "      <td>2</td>\n",
       "      <td>89774</td>\n",
       "      <td>MMA</td>\n",
       "      <td>1445715200</td>\n",
       "    </tr>\n",
       "  </tbody>\n",
       "</table>\n",
       "</div>"
      ],
      "text/plain": [
       "   userId  movieId              tag   timestamp\n",
       "0       2    60756            funny  1445714994\n",
       "1       2    60756  Highly quotable  1445714996\n",
       "2       2    60756     will ferrell  1445714992\n",
       "3       2    89774     Boxing story  1445715207\n",
       "4       2    89774              MMA  1445715200"
      ]
     },
     "metadata": {},
     "output_type": "display_data"
    }
   ],
   "source": [
    "# Visa första rader av datan    \n",
    "display(movies_df.head())\n",
    "display(ratings_df.head())\n",
    "display(tags_df.head())"
   ]
  },
  {
   "cell_type": "code",
   "execution_count": 11,
   "metadata": {},
   "outputs": [
    {
     "name": "stdout",
     "output_type": "stream",
     "text": [
      "Number of movies: 9742\n",
      "Number of users: 610\n",
      "Number of ratings: 100836\n",
      "Number of tags: 3683\n"
     ]
    }
   ],
   "source": [
    "# Få ut mängd filmer, användare, ratings och tags\n",
    "num_movies = len(movies_df)\n",
    "num_users = len(ratings_df['userId'].unique())\n",
    "num_ratings = len(ratings_df)\n",
    "num_tags = len(tags_df)\n",
    "\n",
    "print(f\"Number of movies: {num_movies}\")\n",
    "print(f\"Number of users: {num_users}\")\n",
    "print(f\"Number of ratings: {num_ratings}\")\n",
    "print(f\"Number of tags: {num_tags}\")\n"
   ]
  },
  {
   "cell_type": "code",
   "execution_count": 12,
   "metadata": {},
   "outputs": [
    {
     "data": {
      "image/png": "[encoded data removed]",
      "text/plain": [
       "<Figure size 1000x600 with 1 Axes>"
      ]
     },
     "metadata": {},
     "output_type": "display_data"
    }
   ],
   "source": [
    "# Visualisera fördelningen av filmbetyg\n",
    "plt.figure(figsize=(10, 6))\n",
    "sns.histplot(data=ratings_df, x='rating', bins=10)\n",
    "plt.title('Distribution of Movie Ratings')\n",
    "plt.xlabel('Rating')\n",
    "plt.ylabel('Count')\n",
    "plt.show()"
   ]
  },
  {
   "cell_type": "code",
   "execution_count": 13,
   "metadata": {},
   "outputs": [
    {
     "data": {
      "image/png": "[encoded data removed]",
      "text/plain": [
       "<Figure size 1200x600 with 1 Axes>"
      ]
     },
     "metadata": {},
     "output_type": "display_data"
    }
   ],
   "source": [
    "# Skapa en kopia av genredata för att undvika att modifiera originalet\n",
    "genre_data = movies_df['genres'].str.split('|').copy()\n",
    "all_genres = [genre for genres in genre_data for genre in genres]\n",
    "genre_counts = pd.Series(all_genres).value_counts()\n",
    "\n",
    "plt.figure(figsize=(12, 6))\n",
    "genre_counts.plot(kind='bar')\n",
    "plt.title('Fördelning av filmgenrer')\n",
    "plt.xlabel('Genre')\n",
    "plt.ylabel('Antal')\n",
    "plt.xticks(rotation=45)\n",
    "plt.tight_layout()\n",
    "plt.show()"
   ]
  },
  {
   "cell_type": "code",
   "execution_count": 14,
   "metadata": {},
   "outputs": [],
   "source": [
    "# Steg 1: Hämta mängden filmer som har betyg\n",
    "rated_movies = ratings_df['movieId'].unique()\n",
    "\n",
    "# Steg 2: Filtrera filmer för att endast inkludera de med betyg\n",
    "movies_subset = movies_df[movies_df['movieId'].isin(rated_movies)].copy()\n",
    "movies_subset = movies_subset.reset_index(drop=True)\n",
    "\n",
    "# Steg 3: Skapa användare-film-matris för kollaborativ filtrering\n",
    "user_movie_matrix = ratings_df.pivot(\n",
    "    index='userId',\n",
    "    columns='movieId',\n",
    "    values='rating'\n",
    ").fillna(0)\n"
   ]
  },
  {
   "cell_type": "code",
   "execution_count": 15,
   "metadata": {},
   "outputs": [
    {
     "name": "stdout",
     "output_type": "stream",
     "text": [
      "Kollaborativ likhetsmatris form: (9724, 9724)\n",
      "Innehållsbaserad likhetsmatris form: (9724, 9724)\n"
     ]
    }
   ],
   "source": [
    "# Beräkna likhetsmatris för kollaborativ filtrering\n",
    "collab_movie_similarity = cosine_similarity(user_movie_matrix.T)\n",
    "\n",
    "# Steg 4: Förbered taggdata för innehållsbaserad filtrering\n",
    "tags_df['tag'] = tags_df['tag'].fillna('')\n",
    "tag_data = tags_df.groupby('movieId')['tag'].apply(lambda x: ' '.join(x)).reset_index()\n",
    "\n",
    "# Slå ihop taggar med vår filtrerade filmuppsättning\n",
    "movies_subset = movies_subset.merge(tag_data, on='movieId', how='left')\n",
    "movies_subset['tag'] = movies_subset['tag'].fillna('')\n",
    "\n",
    "# Skapa TF-IDF-matris för innehållsbaserad filtrering\n",
    "vectorizer = TfidfVectorizer(stop_words='english')\n",
    "tfidf_matrix = vectorizer.fit_transform(movies_subset['tag'])\n",
    "content_movie_similarity = cosine_similarity(tfidf_matrix)\n",
    "\n",
    "# Nu bör båda matriserna ha samma form/storlek\n",
    "print(f\"Kollaborativ likhetsmatris form: {collab_movie_similarity.shape}\")\n",
    "print(f\"Innehållsbaserad likhetsmatris form: {content_movie_similarity.shape}\")"
   ]
  },
  {
   "cell_type": "code",
   "execution_count": 16,
   "metadata": {},
   "outputs": [
    {
     "name": "stdout",
     "output_type": "stream",
     "text": [
      "\n",
      "Topp 5 rekommendationer för Toy Story (1995):\n",
      "Bug's Life, A (1998): 0.6903\n",
      "Toy Story 2 (1999): 0.5748\n",
      "Guardians of the Galaxy 2 (2017): 0.2866\n",
      "Jurassic Park (1993): 0.2828\n",
      "Independence Day (a.k.a. ID4) (1996): 0.2821\n",
      "\n",
      "Rekommendationsnoggrannhet: 0.67\n"
     ]
    }
   ],
   "source": [
    "\n",
    "# Beräkna hybridlikhet genom att kombinera båda matriserna\n",
    "hybrid_movie_similarity = (collab_movie_similarity + content_movie_similarity) / 2\n",
    "\n",
    "# Skapa en mappning från filmindex till film-ID för delmängden\n",
    "idx_to_movieid = movies_subset['movieId'].to_dict()\n",
    "movieid_to_idx = {v: k for k, v in idx_to_movieid.items()}\n",
    "\n",
    "# Välj en film för att få rekommendationer (t.ex. Toy Story med movieId = 1)\n",
    "target_movie_id = 1\n",
    "if target_movie_id in movieid_to_idx:\n",
    "    target_movie_idx = movieid_to_idx[target_movie_id]\n",
    "    similar_scores = hybrid_movie_similarity[target_movie_idx]\n",
    "    similar_movies = list(enumerate(similar_scores))\n",
    "    similar_movies = sorted(similar_movies, key=lambda x: x[1], reverse=True)\n",
    "    \n",
    "    print(f\"\\nTopp 5 rekommendationer för {movies_subset.loc[target_movie_idx, 'title']}:\")\n",
    "    for idx, score in similar_movies[1:6]:  # Hoppa över den första eftersom det är filmen själv\n",
    "        print(f\"{movies_subset.loc[idx, 'title']}: {score:.4f}\")\n",
    "else:\n",
    "    print(f\"Film-ID {target_movie_id} hittades inte i datasetet med betyg\")\n",
    "\n",
    "# Utvärdera rekommendationsnoggrannhet\n",
    "# Välj slumpmässiga filmer från vår delmängd för testning\n",
    "test_indices = np.random.choice(len(movies_subset), min(100, len(movies_subset)), replace=False)\n",
    "accuracies = []\n",
    "\n",
    "for idx in test_indices:\n",
    "    movie_id = movies_subset.loc[idx, 'movieId']\n",
    "    similar_scores = hybrid_movie_similarity[idx]\n",
    "    similar_movies = list(enumerate(similar_scores))\n",
    "    similar_movies = sorted(similar_movies, key=lambda x: x[1], reverse=True)\n",
    "    \n",
    "    # Hämta topp 5 rekommendationer (exklusive filmen själv)\n",
    "    top_recommendation_indices = [i for i, _ in similar_movies[1:6]]\n",
    "    top_recommendation_ids = [movies_subset.loc[i, 'movieId'] for i in top_recommendation_indices]\n",
    "    \n",
    "    # Hämta genrer för ingångsfilmen\n",
    "    input_genres = set(movies_subset.loc[idx, 'genres'].split('|'))\n",
    "    \n",
    "    # Räkna korrekta rekommendationer (de som delar minst en genre)\n",
    "    correct_recs = sum(\n",
    "        1 for rec_idx in top_recommendation_indices\n",
    "        if len(input_genres.intersection(set(movies_subset.loc[rec_idx, 'genres'].split('|')))) > 0\n",
    "    )\n",
    "    \n",
    "    accuracies.append(correct_recs / 5)\n",
    "\n",
    "accuracy = np.mean(accuracies)\n",
    "print(f\"\\nRekommendationsnoggrannhet: {accuracy:.2f}\")"
   ]
  }
 ],
 "metadata": {
  "kernelspec": {
   "display_name": "myenv",
   "language": "python",
   "name": "python3"
  },
  "language_info": {
   "codemirror_mode": {
    "name": "ipython",
    "version": 3
   },
   "file_extension": ".py",
   "mimetype": "text/x-python",
   "name": "python",
   "nbconvert_exporter": "python",
   "pygments_lexer": "ipython3",
   "version": "3.12.5"
  }
 },
 "nbformat": 4,
 "nbformat_minor": 2
}
