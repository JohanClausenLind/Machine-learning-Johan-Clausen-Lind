{
 "cells": [
  {
   "cell_type": "code",
   "execution_count": null,
   "metadata": {},
   "outputs": [],
   "source": [
    "# %%\n",
    "import pandas as pd\n",
    "import numpy as np\n",
    "from sklearn.metrics.pairwise import cosine_similarity\n",
    "from sklearn.feature_extraction.text import TfidfVectorizer\n",
    "import matplotlib.pyplot as plt\n",
    "import seaborn as sns\n",
    "\n",
    "# Load the datasets\n",
    "movies_df = pd.read_csv('movies.csv')\n",
    "ratings_df = pd.read_csv('ratings.csv')\n",
    "tags_df = pd.read_csv('tags.csv')"
   ]
  },
  {
   "cell_type": "code",
   "execution_count": null,
   "metadata": {},
   "outputs": [],
   "source": [
    "# Display first few rows of each dataset\n",
    "display(movies_df.head())\n",
    "display(ratings_df.head())\n",
    "display(tags_df.head())"
   ]
  },
  {
   "cell_type": "code",
   "execution_count": null,
   "metadata": {},
   "outputs": [],
   "source": [
    "# Basic statistics\n",
    "num_movies = len(movies_df)\n",
    "num_users = len(ratings_df['userId'].unique())\n",
    "num_ratings = len(ratings_df)\n",
    "num_tags = len(tags_df)\n",
    "\n",
    "print(f\"Number of movies: {num_movies}\")\n",
    "print(f\"Number of users: {num_users}\")\n",
    "print(f\"Number of ratings: {num_ratings}\")\n",
    "print(f\"Number of tags: {num_tags}\")\n"
   ]
  },
  {
   "cell_type": "code",
   "execution_count": null,
   "metadata": {},
   "outputs": [],
   "source": [
    "# Analyze rating distribution\n",
    "plt.figure(figsize=(10, 6))\n",
    "sns.histplot(data=ratings_df, x='rating', bins=10)\n",
    "plt.title('Distribution of Movie Ratings')\n",
    "plt.xlabel('Rating')\n",
    "plt.ylabel('Count')\n",
    "plt.show()\n"
   ]
  },
  {
   "cell_type": "code",
   "execution_count": null,
   "metadata": {},
   "outputs": [],
   "source": [
    "# Analyze genres\n",
    "movies_df['genres'] = movies_df['genres'].str.split('|')\n",
    "all_genres = [genre for genres in movies_df['genres'] for genre in genres]\n",
    "genre_counts = pd.Series(all_genres).value_counts()\n",
    "\n",
    "plt.figure(figsize=(12, 6))\n",
    "genre_counts.plot(kind='bar')\n",
    "plt.title('Distribution of Movie Genres')\n",
    "plt.xlabel('Genre')\n",
    "plt.ylabel('Count')\n",
    "plt.xticks(rotation=45)\n",
    "plt.tight_layout()\n",
    "plt.show()"
   ]
  },
  {
   "cell_type": "code",
   "execution_count": null,
   "metadata": {},
   "outputs": [],
   "source": [
    "# Create user-movie rating matrix\n",
    "user_movie_matrix = ratings_df.pivot(\n",
    "    index='userId',\n",
    "    columns='movieId',\n",
    "    values='rating'\n",
    ").fillna(0)\n"
   ]
  },
  {
   "cell_type": "code",
   "execution_count": null,
   "metadata": {},
   "outputs": [],
   "source": [
    "\n",
    "# Compute movie similarity\n",
    "movie_similarity = cosine_similarity(user_movie_matrix.T)\n",
    "\n",
    "# %%\n",
    "# Content-Based Filtering using TF-IDF on tags\n",
    "tags_df['tag'] = tags_df['tag'].fillna('')\n",
    "tag_data = tags_df.groupby('movieId')['tag'].apply(lambda x: ' '.join(x)).reset_index()\n",
    "movies_df = movies_df.merge(tag_data, on='movieId', how='left')\n",
    "movies_df['tag'] = movies_df['tag'].fillna('')\n",
    "\n",
    "vectorizer = TfidfVectorizer(stop_words='english')\n",
    "tfidf_matrix = vectorizer.fit_transform(movies_df['tag'])\n",
    "content_movie_similarity = cosine_similarity(tfidf_matrix)\n",
    "\n"
   ]
  },
  {
   "cell_type": "code",
   "execution_count": null,
   "metadata": {},
   "outputs": [],
   "source": [
    "\n",
    "# Hybrid Similarity Calculation\n",
    "hybrid_movie_similarity = (collab_movie_similarity + content_movie_similarity) / 2\n",
    "\n",
    "# %%\n",
    "# Select a movie to get recommendations (e.g., Toy Story with movieId = 1)\n",
    "target_movie_id = 1\n",
    "target_movie_idx = movies_df[movies_df['movieId'] == target_movie_id].index[0]\n",
    "similar_scores = hybrid_movie_similarity[target_movie_idx]\n",
    "similar_movies = list(enumerate(similar_scores))\n",
    "similar_movies = sorted(similar_movies, key=lambda x: x[1], reverse=True)\n"
   ]
  },
  {
   "cell_type": "code",
   "execution_count": null,
   "metadata": {},
   "outputs": [],
   "source": [
    "\n",
    "# %%\n",
    "# Evaluate recommendation accuracy\n",
    "test_movies = movies_df['movieId'].sample(n=100, random_state=42)\n",
    "accuracies = []\n",
    "\n",
    "for movie_id in test_movies:\n",
    "    movie_idx = movies_df[movies_df['movieId'] == movie_id].index[0]\n",
    "    similar_scores = hybrid_movie_similarity[movie_idx]\n",
    "    similar_movies = list(enumerate(similar_scores))\n",
    "    similar_movies = sorted(similar_movies, key=lambda x: x[1], reverse=True)\n",
    "    \n",
    "    top_recommendations = [movies_df.iloc[idx]['movieId'] for idx, _ in similar_movies[1:6]]\n",
    "    input_genres = set(movies_df[movies_df['movieId'] == movie_id]['genres'].iloc[0])\n",
    "    correct_recs = sum(\n",
    "        1 for rec_id in top_recommendations \n",
    "        if len(input_genres.intersection(set(movies_df[movies_df['movieId'] == rec_id]['genres'].iloc[0]))) > 0\n",
    "    )\n",
    "    accuracies.append(correct_recs / 5)\n",
    "\n",
    "accuracy = np.mean(accuracies)\n",
    "print(f\"Recommendation Accuracy: {accuracy:.2f}\")\n"
   ]
  },
  {
   "cell_type": "code",
   "execution_count": null,
   "metadata": {},
   "outputs": [],
   "source": []
  },
  {
   "cell_type": "code",
   "execution_count": null,
   "metadata": {},
   "outputs": [],
   "source": []
  },
  {
   "cell_type": "code",
   "execution_count": null,
   "metadata": {},
   "outputs": [],
   "source": []
  },
  {
   "cell_type": "code",
   "execution_count": null,
   "metadata": {},
   "outputs": [],
   "source": []
  }
 ],
 "metadata": {
  "kernelspec": {
   "display_name": "MLVenv",
   "language": "python",
   "name": "python3"
  },
  "language_info": {
   "name": "python",
   "version": "3.12.3"
  }
 },
 "nbformat": 4,
 "nbformat_minor": 2
}
