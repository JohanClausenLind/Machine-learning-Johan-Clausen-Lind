{
 "cells": [
  {
   "cell_type": "code",
   "execution_count": 3,
   "metadata": {},
   "outputs": [
    {
     "ename": "FileNotFoundError",
     "evalue": "[Errno 2] No such file or directory: '../cardio_train.csv'",
     "output_type": "error",
     "traceback": [
      "\u001b[0;31m---------------------------------------------------------------------------\u001b[0m",
      "\u001b[0;31mFileNotFoundError\u001b[0m                         Traceback (most recent call last)",
      "Cell \u001b[0;32mIn[3], line 14\u001b[0m\n\u001b[1;32m     11\u001b[0m \u001b[38;5;28;01mimport\u001b[39;00m\u001b[38;5;250m \u001b[39m\u001b[38;5;21;01mjoblib\u001b[39;00m\n\u001b[1;32m     13\u001b[0m \u001b[38;5;66;03m# Ladda data\u001b[39;00m\n\u001b[0;32m---> 14\u001b[0m df \u001b[38;5;241m=\u001b[39m \u001b[43mpd\u001b[49m\u001b[38;5;241;43m.\u001b[39;49m\u001b[43mread_csv\u001b[49m\u001b[43m(\u001b[49m\u001b[38;5;124;43mf\u001b[39;49m\u001b[38;5;124;43m\"\u001b[39;49m\u001b[38;5;124;43m../cardio_train.csv\u001b[39;49m\u001b[38;5;124;43m\"\u001b[39;49m\u001b[43m)\u001b[49m\n",
      "File \u001b[0;32m~/Documents/johangit/MLVenv/lib/python3.12/site-packages/pandas/io/parsers/readers.py:1026\u001b[0m, in \u001b[0;36mread_csv\u001b[0;34m(filepath_or_buffer, sep, delimiter, header, names, index_col, usecols, dtype, engine, converters, true_values, false_values, skipinitialspace, skiprows, skipfooter, nrows, na_values, keep_default_na, na_filter, verbose, skip_blank_lines, parse_dates, infer_datetime_format, keep_date_col, date_parser, date_format, dayfirst, cache_dates, iterator, chunksize, compression, thousands, decimal, lineterminator, quotechar, quoting, doublequote, escapechar, comment, encoding, encoding_errors, dialect, on_bad_lines, delim_whitespace, low_memory, memory_map, float_precision, storage_options, dtype_backend)\u001b[0m\n\u001b[1;32m   1013\u001b[0m kwds_defaults \u001b[38;5;241m=\u001b[39m _refine_defaults_read(\n\u001b[1;32m   1014\u001b[0m     dialect,\n\u001b[1;32m   1015\u001b[0m     delimiter,\n\u001b[0;32m   (...)\u001b[0m\n\u001b[1;32m   1022\u001b[0m     dtype_backend\u001b[38;5;241m=\u001b[39mdtype_backend,\n\u001b[1;32m   1023\u001b[0m )\n\u001b[1;32m   1024\u001b[0m kwds\u001b[38;5;241m.\u001b[39mupdate(kwds_defaults)\n\u001b[0;32m-> 1026\u001b[0m \u001b[38;5;28;01mreturn\u001b[39;00m \u001b[43m_read\u001b[49m\u001b[43m(\u001b[49m\u001b[43mfilepath_or_buffer\u001b[49m\u001b[43m,\u001b[49m\u001b[43m \u001b[49m\u001b[43mkwds\u001b[49m\u001b[43m)\u001b[49m\n",
      "File \u001b[0;32m~/Documents/johangit/MLVenv/lib/python3.12/site-packages/pandas/io/parsers/readers.py:620\u001b[0m, in \u001b[0;36m_read\u001b[0;34m(filepath_or_buffer, kwds)\u001b[0m\n\u001b[1;32m    617\u001b[0m _validate_names(kwds\u001b[38;5;241m.\u001b[39mget(\u001b[38;5;124m\"\u001b[39m\u001b[38;5;124mnames\u001b[39m\u001b[38;5;124m\"\u001b[39m, \u001b[38;5;28;01mNone\u001b[39;00m))\n\u001b[1;32m    619\u001b[0m \u001b[38;5;66;03m# Create the parser.\u001b[39;00m\n\u001b[0;32m--> 620\u001b[0m parser \u001b[38;5;241m=\u001b[39m \u001b[43mTextFileReader\u001b[49m\u001b[43m(\u001b[49m\u001b[43mfilepath_or_buffer\u001b[49m\u001b[43m,\u001b[49m\u001b[43m \u001b[49m\u001b[38;5;241;43m*\u001b[39;49m\u001b[38;5;241;43m*\u001b[39;49m\u001b[43mkwds\u001b[49m\u001b[43m)\u001b[49m\n\u001b[1;32m    622\u001b[0m \u001b[38;5;28;01mif\u001b[39;00m chunksize \u001b[38;5;129;01mor\u001b[39;00m iterator:\n\u001b[1;32m    623\u001b[0m     \u001b[38;5;28;01mreturn\u001b[39;00m parser\n",
      "File \u001b[0;32m~/Documents/johangit/MLVenv/lib/python3.12/site-packages/pandas/io/parsers/readers.py:1620\u001b[0m, in \u001b[0;36mTextFileReader.__init__\u001b[0;34m(self, f, engine, **kwds)\u001b[0m\n\u001b[1;32m   1617\u001b[0m     \u001b[38;5;28mself\u001b[39m\u001b[38;5;241m.\u001b[39moptions[\u001b[38;5;124m\"\u001b[39m\u001b[38;5;124mhas_index_names\u001b[39m\u001b[38;5;124m\"\u001b[39m] \u001b[38;5;241m=\u001b[39m kwds[\u001b[38;5;124m\"\u001b[39m\u001b[38;5;124mhas_index_names\u001b[39m\u001b[38;5;124m\"\u001b[39m]\n\u001b[1;32m   1619\u001b[0m \u001b[38;5;28mself\u001b[39m\u001b[38;5;241m.\u001b[39mhandles: IOHandles \u001b[38;5;241m|\u001b[39m \u001b[38;5;28;01mNone\u001b[39;00m \u001b[38;5;241m=\u001b[39m \u001b[38;5;28;01mNone\u001b[39;00m\n\u001b[0;32m-> 1620\u001b[0m \u001b[38;5;28mself\u001b[39m\u001b[38;5;241m.\u001b[39m_engine \u001b[38;5;241m=\u001b[39m \u001b[38;5;28;43mself\u001b[39;49m\u001b[38;5;241;43m.\u001b[39;49m\u001b[43m_make_engine\u001b[49m\u001b[43m(\u001b[49m\u001b[43mf\u001b[49m\u001b[43m,\u001b[49m\u001b[43m \u001b[49m\u001b[38;5;28;43mself\u001b[39;49m\u001b[38;5;241;43m.\u001b[39;49m\u001b[43mengine\u001b[49m\u001b[43m)\u001b[49m\n",
      "File \u001b[0;32m~/Documents/johangit/MLVenv/lib/python3.12/site-packages/pandas/io/parsers/readers.py:1880\u001b[0m, in \u001b[0;36mTextFileReader._make_engine\u001b[0;34m(self, f, engine)\u001b[0m\n\u001b[1;32m   1878\u001b[0m     \u001b[38;5;28;01mif\u001b[39;00m \u001b[38;5;124m\"\u001b[39m\u001b[38;5;124mb\u001b[39m\u001b[38;5;124m\"\u001b[39m \u001b[38;5;129;01mnot\u001b[39;00m \u001b[38;5;129;01min\u001b[39;00m mode:\n\u001b[1;32m   1879\u001b[0m         mode \u001b[38;5;241m+\u001b[39m\u001b[38;5;241m=\u001b[39m \u001b[38;5;124m\"\u001b[39m\u001b[38;5;124mb\u001b[39m\u001b[38;5;124m\"\u001b[39m\n\u001b[0;32m-> 1880\u001b[0m \u001b[38;5;28mself\u001b[39m\u001b[38;5;241m.\u001b[39mhandles \u001b[38;5;241m=\u001b[39m \u001b[43mget_handle\u001b[49m\u001b[43m(\u001b[49m\n\u001b[1;32m   1881\u001b[0m \u001b[43m    \u001b[49m\u001b[43mf\u001b[49m\u001b[43m,\u001b[49m\n\u001b[1;32m   1882\u001b[0m \u001b[43m    \u001b[49m\u001b[43mmode\u001b[49m\u001b[43m,\u001b[49m\n\u001b[1;32m   1883\u001b[0m \u001b[43m    \u001b[49m\u001b[43mencoding\u001b[49m\u001b[38;5;241;43m=\u001b[39;49m\u001b[38;5;28;43mself\u001b[39;49m\u001b[38;5;241;43m.\u001b[39;49m\u001b[43moptions\u001b[49m\u001b[38;5;241;43m.\u001b[39;49m\u001b[43mget\u001b[49m\u001b[43m(\u001b[49m\u001b[38;5;124;43m\"\u001b[39;49m\u001b[38;5;124;43mencoding\u001b[39;49m\u001b[38;5;124;43m\"\u001b[39;49m\u001b[43m,\u001b[49m\u001b[43m \u001b[49m\u001b[38;5;28;43;01mNone\u001b[39;49;00m\u001b[43m)\u001b[49m\u001b[43m,\u001b[49m\n\u001b[1;32m   1884\u001b[0m \u001b[43m    \u001b[49m\u001b[43mcompression\u001b[49m\u001b[38;5;241;43m=\u001b[39;49m\u001b[38;5;28;43mself\u001b[39;49m\u001b[38;5;241;43m.\u001b[39;49m\u001b[43moptions\u001b[49m\u001b[38;5;241;43m.\u001b[39;49m\u001b[43mget\u001b[49m\u001b[43m(\u001b[49m\u001b[38;5;124;43m\"\u001b[39;49m\u001b[38;5;124;43mcompression\u001b[39;49m\u001b[38;5;124;43m\"\u001b[39;49m\u001b[43m,\u001b[49m\u001b[43m \u001b[49m\u001b[38;5;28;43;01mNone\u001b[39;49;00m\u001b[43m)\u001b[49m\u001b[43m,\u001b[49m\n\u001b[1;32m   1885\u001b[0m \u001b[43m    \u001b[49m\u001b[43mmemory_map\u001b[49m\u001b[38;5;241;43m=\u001b[39;49m\u001b[38;5;28;43mself\u001b[39;49m\u001b[38;5;241;43m.\u001b[39;49m\u001b[43moptions\u001b[49m\u001b[38;5;241;43m.\u001b[39;49m\u001b[43mget\u001b[49m\u001b[43m(\u001b[49m\u001b[38;5;124;43m\"\u001b[39;49m\u001b[38;5;124;43mmemory_map\u001b[39;49m\u001b[38;5;124;43m\"\u001b[39;49m\u001b[43m,\u001b[49m\u001b[43m \u001b[49m\u001b[38;5;28;43;01mFalse\u001b[39;49;00m\u001b[43m)\u001b[49m\u001b[43m,\u001b[49m\n\u001b[1;32m   1886\u001b[0m \u001b[43m    \u001b[49m\u001b[43mis_text\u001b[49m\u001b[38;5;241;43m=\u001b[39;49m\u001b[43mis_text\u001b[49m\u001b[43m,\u001b[49m\n\u001b[1;32m   1887\u001b[0m \u001b[43m    \u001b[49m\u001b[43merrors\u001b[49m\u001b[38;5;241;43m=\u001b[39;49m\u001b[38;5;28;43mself\u001b[39;49m\u001b[38;5;241;43m.\u001b[39;49m\u001b[43moptions\u001b[49m\u001b[38;5;241;43m.\u001b[39;49m\u001b[43mget\u001b[49m\u001b[43m(\u001b[49m\u001b[38;5;124;43m\"\u001b[39;49m\u001b[38;5;124;43mencoding_errors\u001b[39;49m\u001b[38;5;124;43m\"\u001b[39;49m\u001b[43m,\u001b[49m\u001b[43m \u001b[49m\u001b[38;5;124;43m\"\u001b[39;49m\u001b[38;5;124;43mstrict\u001b[39;49m\u001b[38;5;124;43m\"\u001b[39;49m\u001b[43m)\u001b[49m\u001b[43m,\u001b[49m\n\u001b[1;32m   1888\u001b[0m \u001b[43m    \u001b[49m\u001b[43mstorage_options\u001b[49m\u001b[38;5;241;43m=\u001b[39;49m\u001b[38;5;28;43mself\u001b[39;49m\u001b[38;5;241;43m.\u001b[39;49m\u001b[43moptions\u001b[49m\u001b[38;5;241;43m.\u001b[39;49m\u001b[43mget\u001b[49m\u001b[43m(\u001b[49m\u001b[38;5;124;43m\"\u001b[39;49m\u001b[38;5;124;43mstorage_options\u001b[39;49m\u001b[38;5;124;43m\"\u001b[39;49m\u001b[43m,\u001b[49m\u001b[43m \u001b[49m\u001b[38;5;28;43;01mNone\u001b[39;49;00m\u001b[43m)\u001b[49m\u001b[43m,\u001b[49m\n\u001b[1;32m   1889\u001b[0m \u001b[43m\u001b[49m\u001b[43m)\u001b[49m\n\u001b[1;32m   1890\u001b[0m \u001b[38;5;28;01massert\u001b[39;00m \u001b[38;5;28mself\u001b[39m\u001b[38;5;241m.\u001b[39mhandles \u001b[38;5;129;01mis\u001b[39;00m \u001b[38;5;129;01mnot\u001b[39;00m \u001b[38;5;28;01mNone\u001b[39;00m\n\u001b[1;32m   1891\u001b[0m f \u001b[38;5;241m=\u001b[39m \u001b[38;5;28mself\u001b[39m\u001b[38;5;241m.\u001b[39mhandles\u001b[38;5;241m.\u001b[39mhandle\n",
      "File \u001b[0;32m~/Documents/johangit/MLVenv/lib/python3.12/site-packages/pandas/io/common.py:873\u001b[0m, in \u001b[0;36mget_handle\u001b[0;34m(path_or_buf, mode, encoding, compression, memory_map, is_text, errors, storage_options)\u001b[0m\n\u001b[1;32m    868\u001b[0m \u001b[38;5;28;01melif\u001b[39;00m \u001b[38;5;28misinstance\u001b[39m(handle, \u001b[38;5;28mstr\u001b[39m):\n\u001b[1;32m    869\u001b[0m     \u001b[38;5;66;03m# Check whether the filename is to be opened in binary mode.\u001b[39;00m\n\u001b[1;32m    870\u001b[0m     \u001b[38;5;66;03m# Binary mode does not support 'encoding' and 'newline'.\u001b[39;00m\n\u001b[1;32m    871\u001b[0m     \u001b[38;5;28;01mif\u001b[39;00m ioargs\u001b[38;5;241m.\u001b[39mencoding \u001b[38;5;129;01mand\u001b[39;00m \u001b[38;5;124m\"\u001b[39m\u001b[38;5;124mb\u001b[39m\u001b[38;5;124m\"\u001b[39m \u001b[38;5;129;01mnot\u001b[39;00m \u001b[38;5;129;01min\u001b[39;00m ioargs\u001b[38;5;241m.\u001b[39mmode:\n\u001b[1;32m    872\u001b[0m         \u001b[38;5;66;03m# Encoding\u001b[39;00m\n\u001b[0;32m--> 873\u001b[0m         handle \u001b[38;5;241m=\u001b[39m \u001b[38;5;28;43mopen\u001b[39;49m\u001b[43m(\u001b[49m\n\u001b[1;32m    874\u001b[0m \u001b[43m            \u001b[49m\u001b[43mhandle\u001b[49m\u001b[43m,\u001b[49m\n\u001b[1;32m    875\u001b[0m \u001b[43m            \u001b[49m\u001b[43mioargs\u001b[49m\u001b[38;5;241;43m.\u001b[39;49m\u001b[43mmode\u001b[49m\u001b[43m,\u001b[49m\n\u001b[1;32m    876\u001b[0m \u001b[43m            \u001b[49m\u001b[43mencoding\u001b[49m\u001b[38;5;241;43m=\u001b[39;49m\u001b[43mioargs\u001b[49m\u001b[38;5;241;43m.\u001b[39;49m\u001b[43mencoding\u001b[49m\u001b[43m,\u001b[49m\n\u001b[1;32m    877\u001b[0m \u001b[43m            \u001b[49m\u001b[43merrors\u001b[49m\u001b[38;5;241;43m=\u001b[39;49m\u001b[43merrors\u001b[49m\u001b[43m,\u001b[49m\n\u001b[1;32m    878\u001b[0m \u001b[43m            \u001b[49m\u001b[43mnewline\u001b[49m\u001b[38;5;241;43m=\u001b[39;49m\u001b[38;5;124;43m\"\u001b[39;49m\u001b[38;5;124;43m\"\u001b[39;49m\u001b[43m,\u001b[49m\n\u001b[1;32m    879\u001b[0m \u001b[43m        \u001b[49m\u001b[43m)\u001b[49m\n\u001b[1;32m    880\u001b[0m     \u001b[38;5;28;01melse\u001b[39;00m:\n\u001b[1;32m    881\u001b[0m         \u001b[38;5;66;03m# Binary mode\u001b[39;00m\n\u001b[1;32m    882\u001b[0m         handle \u001b[38;5;241m=\u001b[39m \u001b[38;5;28mopen\u001b[39m(handle, ioargs\u001b[38;5;241m.\u001b[39mmode)\n",
      "\u001b[0;31mFileNotFoundError\u001b[0m: [Errno 2] No such file or directory: '../cardio_train.csv'"
     ]
    }
   ],
   "source": [
    "# Importera nödvändiga bibliotek\n",
    "import pandas as pd\n",
    "import numpy as np\n",
    "import matplotlib.pyplot as plt\n",
    "import seaborn as sns\n",
    "from sklearn.model_selection import GridSearchCV\n",
    "from sklearn.preprocessing import StandardScaler\n",
    "from sklearn.ensemble import RandomForestClassifier\n",
    "from sklearn.linear_model import LogisticRegression\n",
    "from sklearn.svm import SVC\n",
    "import joblib\n",
    "\n",
    "# Ladda data\n",
    "df = pd.read_csv('cardio_train.csv')"
   ]
  },
  {
   "cell_type": "code",
   "execution_count": null,
   "metadata": {},
   "outputs": [],
   "source": [
    "# 1.1 EDA (Exploratory Data Analysis)\n",
    "\n",
    "# a) Hur många är positiva för hjärt-kärlsjukdom och hur många är negativa?\n",
    "disease_counts = df['cardio'].value_counts()\n",
    "plt.figure(figsize=(10, 6))\n",
    "sns.barplot(x=disease_counts.index, y=disease_counts.values)\n",
    "plt.title('Fördelning av hjärt-kärlsjukdom')\n",
    "plt.show()\n",
    "\n",
    "print(f\"Antal positiva fall: {disease_counts[1]}\")\n",
    "print(f\"Antal negativa fall: {disease_counts[0]}\")\n",
    "print(f\"Andel positiva fall: {(disease_counts[1]/len(df))*100:.2f}%\")"
   ]
  },
  {
   "cell_type": "code",
   "execution_count": null,
   "metadata": {},
   "outputs": [],
   "source": [
    "\n",
    "# b) Kolesterolvärden\n",
    "cholesterol_dist = df['cholesterol'].value_counts()\n",
    "plt.figure(figsize=(10, 6))\n",
    "sns.barplot(x=cholesterol_dist.index, y=cholesterol_dist.values)\n",
    "plt.title('Fördelning av kolesterolvärden')\n",
    "plt.xlabel('1: normal, 2: över normal, 3: långt över normal')\n",
    "plt.show()\n",
    "\n",
    "for i in range(1, 4):\n",
    "    print(f\"Andel med kolesterolvärde {i}: {(cholesterol_dist[i]/len(df))*100:.2f}%\")\n"
   ]
  },
  {
   "cell_type": "code",
   "execution_count": null,
   "metadata": {},
   "outputs": [],
   "source": [
    "\n",
    "# c) Åldersfördelning\n",
    "plt.figure(figsize=(10, 6))\n",
    "sns.histplot(df['age']/365, bins=30)  # Konvertera dagar till år\n",
    "plt.title('Åldersfördelning')\n",
    "plt.xlabel('Ålder (år)')\n",
    "plt.show()\n",
    "\n",
    "print(f\"Medelålder: {(df['age']/365).mean():.1f} år\")\n",
    "print(f\"Medianålder: {(df['age']/365).median():.1f} år\")"
   ]
  },
  {
   "cell_type": "code",
   "execution_count": null,
   "metadata": {},
   "outputs": [],
   "source": [
    "\n",
    "# d) Andel som röker\n",
    "smoking_dist = df['smoke'].value_counts()\n",
    "print(f\"Andel som röker: {(smoking_dist[1]/len(df))*100:.2f}%\")\n"
   ]
  },
  {
   "cell_type": "code",
   "execution_count": null,
   "metadata": {},
   "outputs": [],
   "source": [
    "\n",
    "# e) Viktfördelning\n",
    "plt.figure(figsize=(10, 6))\n",
    "sns.histplot(df['weight'], bins=30)\n",
    "plt.title('Viktfördelning')\n",
    "plt.xlabel('Vikt (kg)')\n",
    "plt.show()\n",
    "\n",
    "print(f\"Medelvikt: {df['weight'].mean():.1f} kg\")\n",
    "print(f\"Medianvikt: {df['weight'].median():.1f} kg\")\n"
   ]
  },
  {
   "cell_type": "code",
   "execution_count": null,
   "metadata": {},
   "outputs": [],
   "source": [
    "\n",
    "# f) Längdfördelning\n",
    "plt.figure(figsize=(10, 6))\n",
    "sns.histplot(df['height'], bins=30)\n",
    "plt.title('Längdfördelning')\n",
    "plt.xlabel('Längd (cm)')\n",
    "plt.show()\n",
    "\n",
    "print(f\"Medellängd: {df['height'].mean():.1f} cm\")\n",
    "print(f\"Medianlängd: {df['height'].median():.1f} cm\")\n"
   ]
  },
  {
   "cell_type": "code",
   "execution_count": null,
   "metadata": {},
   "outputs": [],
   "source": [
    "# g) Andel hjärt-kärlsjukdom per kön\n",
    "gender_disease = pd.crosstab(df['gender'], df['cardio'], normalize='index') * 100\n",
    "gender_disease.plot(kind='bar', figsize=(10, 6))\n",
    "plt.title('Andel hjärt-kärlsjukdom per kön')\n",
    "plt.xlabel('Kön (1: kvinna, 2: man)')\n",
    "plt.ylabel('Procent')\n",
    "plt.show()\n",
    "\n",
    "print(\"Andel hjärt-kärlsjukdom per kön:\")\n",
    "print(gender_disease)\n"
   ]
  },
  {
   "cell_type": "code",
   "execution_count": null,
   "metadata": {},
   "outputs": [],
   "source": [
    "# 1.2 Modelldesign - Korrelationsmatris\n",
    "correlation_matrix = df.corr()\n",
    "plt.figure(figsize=(12, 8))\n",
    "sns.heatmap(correlation_matrix, annot=True, cmap='coolwarm', center=0)\n",
    "plt.title('Korrelationsmatris')\n",
    "plt.show()"
   ]
  },
  {
   "cell_type": "code",
   "execution_count": null,
   "metadata": {},
   "outputs": [],
   "source": [
    "\n",
    "# 1.2.1 Feature Engineering\n",
    "\n",
    "# Beräkna BMI\n",
    "df['BMI'] = df['weight'] / ((df['height']/100) ** 2)\n",
    "\n",
    "# Ta bort orimliga BMI-värden (under 15 eller över 50)\n",
    "df = df[(df['BMI'] >= 15) & (df['BMI'] <= 50)]\n",
    "\n",
    "# Skapa BMI-kategorier\n",
    "def get_bmi_category(bmi):\n",
    "    if bmi < 18.5:\n",
    "        return 'underweight'\n",
    "    elif bmi < 25:\n",
    "        return 'normal'\n",
    "    elif bmi < 30:\n",
    "        return 'overweight'\n",
    "    elif bmi < 35:\n",
    "        return 'obese_1'\n",
    "    elif bmi < 40:\n",
    "        return 'obese_2'\n",
    "    else:\n",
    "        return 'obese_3'\n",
    "\n",
    "df['BMI_category'] = df['BMI'].apply(get_bmi_category)\n",
    "\n",
    "# Ta bort orimliga blodtrycksvärden\n",
    "df = df[(df['ap_hi'] > 0) & (df['ap_hi'] < 300) & \n",
    "        (df['ap_lo'] > 0) & (df['ap_lo'] < 200) &\n",
    "        (df['ap_hi'] > df['ap_lo'])]\n",
    "\n",
    "# Skapa blodtryckskategorier\n",
    "def get_bp_category(systolic, diastolic):\n",
    "    if systolic < 120 and diastolic < 80:\n",
    "        return 'normal'\n",
    "    elif systolic < 130 and diastolic < 80:\n",
    "        return 'elevated'\n",
    "    elif systolic < 140 or diastolic < 90:\n",
    "        return 'hypertension_1'\n",
    "    else:\n",
    "        return 'hypertension_2'\n",
    "\n",
    "df['BP_category'] = df.apply(lambda x: get_bp_category(x['ap_hi'], x['ap_lo']), axis=1)\n"
   ]
  },
  {
   "cell_type": "code",
   "execution_count": null,
   "metadata": {},
   "outputs": [],
   "source": [
    "\n",
    "# 1.2.2 Skapa två dataset\n",
    "# Dataset 1 med kategoriska variabler\n",
    "df1 = df.copy()\n",
    "categorical_columns = ['BMI_category', 'BP_category', 'gender']\n",
    "df1 = pd.get_dummies(df1, columns=categorical_columns)\n",
    "df1.drop(['ap_hi', 'ap_lo', 'height', 'weight', 'BMI'], axis=1, inplace=True)\n",
    "\n",
    "# Dataset 2 med numeriska variabler\n",
    "df2 = df.copy()\n",
    "df2 = pd.get_dummies(df2, columns=['gender'])\n",
    "df2.drop(['BMI_category', 'BP_category', 'height', 'weight'], axis=1, inplace=True)\n"
   ]
  },
  {
   "cell_type": "code",
   "execution_count": null,
   "metadata": {},
   "outputs": [],
   "source": [
    "\n",
    "# 1.2.3 Träning och utvärdering av modeller\n",
    "from sklearn.model_selection import train_test_split\n",
    "\n",
    "# Dela upp data\n",
    "X1 = df1.drop('cardio', axis=1)\n",
    "y1 = df1['cardio']\n",
    "X2 = df2.drop('cardio', axis=1)\n",
    "y2 = df2['cardio']\n",
    "\n",
    "# Skala data\n",
    "scaler = StandardScaler()\n",
    "X1_scaled = scaler.fit_transform(X1)\n",
    "X2_scaled = scaler.fit_transform(X2)\n",
    "\n",
    "# Definiera modeller och parametrar\n",
    "models = {\n",
    "    'rf': (RandomForestClassifier(), {\n",
    "        'n_estimators': [100, 200],\n",
    "        'max_depth': [10, 20, None]\n",
    "    }),\n",
    "    'lr': (LogisticRegression(), {\n",
    "        'C': [0.1, 1.0, 10.0],\n",
    "        'penalty': ['l2']\n",
    "    }),\n",
    "    'svm': (SVC(probability=True), {\n",
    "        'C': [0.1, 1.0, 10.0],\n",
    "        'kernel': ['rbf', 'linear']\n",
    "    })\n",
    "}"
   ]
  },
  {
   "cell_type": "code",
   "execution_count": null,
   "metadata": {},
   "outputs": [],
   "source": [
    "\n",
    "\n",
    "# Träna och utvärdera modeller på båda dataseten\n",
    "results = {}\n",
    "for name, (model, params) in models.items():\n",
    "    # Dataset 1\n",
    "    grid1 = GridSearchCV(model, params, cv=5, scoring='accuracy')\n",
    "    grid1.fit(X1_scaled, y1)\n",
    "    \n",
    "    # Dataset 2\n",
    "    grid2 = GridSearchCV(model, params, cv=5, scoring='accuracy')\n",
    "    grid2.fit(X2_scaled, y2)\n",
    "    \n",
    "    results[name] = {\n",
    "        'dataset1': {'score': grid1.best_score_, 'params': grid1.best_params_},\n",
    "        'dataset2': {'score': grid2.best_score_, 'params': grid2.best_params_}\n",
    "    }\n",
    "\n",
    "# Visa resultat\n",
    "for model_name, result in results.items():\n",
    "    print(f\"\\nModell: {model_name}\")\n",
    "    print(f\"Dataset 1 - Score: {result['dataset1']['score']:.4f}\")\n",
    "    print(f\"Dataset 1 - Bästa parametrar: {result['dataset1']['params']}\")\n",
    "    print(f\"Dataset 2 - Score: {result['dataset2']['score']:.4f}\")\n",
    "    print(f\"Dataset 2 - Bästa parametrar: {result['dataset2']['params']}\")\n"
   ]
  },
  {
   "cell_type": "code",
   "execution_count": null,
   "metadata": {},
   "outputs": [],
   "source": [
    "\n",
    "# 1.3 Paketering och demo\n",
    "# Välj bästa modell och dataset baserat på resultaten\n",
    "# Antag att RandomForest på dataset 1 var bäst\n",
    "\n",
    "# Ta ut 100 slumpmässiga rader för test\n",
    "test_indices = np.random.choice(len(df1), 100, replace=False)\n",
    "test_samples = df1.iloc[test_indices]\n",
    "train_samples = df1.drop(test_indices)\n",
    "\n",
    "# Spara test samples\n",
    "test_samples.to_csv('test_samples.csv', index=False)\n",
    "\n",
    "# Träna final modell\n",
    "best_model = RandomForestClassifier(**results['rf']['dataset1']['params'])\n",
    "X_train = train_samples.drop('cardio', axis=1)\n",
    "y_train = train_samples['cardio']\n",
    "best_model.fit(X_train, y_train)\n",
    "\n",
    "# Spara modellen\n",
    "joblib.dump(best_model, 'heart_disease_model.pkl')"
   ]
  }
 ],
 "metadata": {
  "kernelspec": {
   "display_name": "MLVenv",
   "language": "python",
   "name": "python3"
  },
  "language_info": {
   "codemirror_mode": {
    "name": "ipython",
    "version": 3
   },
   "file_extension": ".py",
   "mimetype": "text/x-python",
   "name": "python",
   "nbconvert_exporter": "python",
   "pygments_lexer": "ipython3",
   "version": "3.12.3"
  }
 },
 "nbformat": 4,
 "nbformat_minor": 2
}
